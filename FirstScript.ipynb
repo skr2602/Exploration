{
 "cells": [
  {
   "cell_type": "code",
   "execution_count": 15,
   "id": "d1ff14a9",
   "metadata": {},
   "outputs": [],
   "source": [
    "from datetime import datetime\n",
    "import asyncio"
   ]
  },
  {
   "cell_type": "code",
   "execution_count": 14,
   "id": "9089f5f0",
   "metadata": {},
   "outputs": [],
   "source": [
    "async def task1():\n",
    "    print('Sudhakar task1 started', datetime.now())\n",
    "    await asyncio.sleep(3)\n",
    "    return 'task completed'"
   ]
  },
  {
   "cell_type": "code",
   "execution_count": 22,
   "id": "e2d58920",
   "metadata": {},
   "outputs": [],
   "source": [
    "async def task2():\n",
    "    print('Sudhakar task2 started', datetime.now())\n",
    "    await asyncio.sleep(6)\n",
    "    return 'task completed'"
   ]
  },
  {
   "cell_type": "code",
   "execution_count": 24,
   "id": "60b88d7d",
   "metadata": {},
   "outputs": [
    {
     "name": "stdout",
     "output_type": "stream",
     "text": [
      "Sudhakar task started 2022-12-31 16:15:41.312002\n",
      "Sudhakar task2 started 2022-12-31 16:15:41.312002\n",
      "Sudhakar task started 2022-12-31 16:15:41.312002\n",
      "Sudhakar task2 started 2022-12-31 16:15:41.312002\n",
      "--- 6.01508092880249 seconds ---\n"
     ]
    }
   ],
   "source": [
    "import time\n",
    "start_time = time.time()\n",
    "task_list=[task1(), task2(), task1(), task2()]\n",
    "r=await asyncio.gather(*task_list)\n",
    "print(\"--- %s seconds ---\" % (time.time() - start_time))"
   ]
  },
  {
   "cell_type": "code",
   "execution_count": 25,
   "id": "0fe8ed38",
   "metadata": {},
   "outputs": [
    {
     "data": {
      "text/plain": [
       "['task completed', 'task completed', 'task completed', 'task completed']"
      ]
     },
     "execution_count": 25,
     "metadata": {},
     "output_type": "execute_result"
    }
   ],
   "source": [
    "r"
   ]
  },
  {
   "cell_type": "code",
   "execution_count": null,
   "id": "02b7f6bb",
   "metadata": {},
   "outputs": [],
   "source": [
    "# if we want to execute program independently(at a point of time) without waiting for task1 completing task2"
   ]
  },
  {
   "cell_type": "code",
   "execution_count": 13,
   "id": "01d284fc",
   "metadata": {},
   "outputs": [
    {
     "data": {
      "text/plain": [
       "datetime.datetime(2022, 12, 31, 16, 10, 55, 609164)"
      ]
     },
     "execution_count": 13,
     "metadata": {},
     "output_type": "execute_result"
    }
   ],
   "source": [
    "from datetime import datetime\n",
    "datetime.now()"
   ]
  },
  {
   "cell_type": "code",
   "execution_count": null,
   "id": "c2a201f5",
   "metadata": {},
   "outputs": [],
   "source": []
  }
 ],
 "metadata": {
  "kernelspec": {
   "display_name": "Python 3 (ipykernel)",
   "language": "python",
   "name": "python3"
  },
  "language_info": {
   "codemirror_mode": {
    "name": "ipython",
    "version": 3
   },
   "file_extension": ".py",
   "mimetype": "text/x-python",
   "name": "python",
   "nbconvert_exporter": "python",
   "pygments_lexer": "ipython3",
   "version": "3.10.8"
  },
  "toc": {
   "base_numbering": 1,
   "nav_menu": {},
   "number_sections": false,
   "sideBar": false,
   "skip_h1_title": false,
   "title_cell": "Table of Contents",
   "title_sidebar": "Contents",
   "toc_cell": false,
   "toc_position": {},
   "toc_section_display": false,
   "toc_window_display": false
  }
 },
 "nbformat": 4,
 "nbformat_minor": 5
}
